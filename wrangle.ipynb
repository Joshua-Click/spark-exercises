{
 "cells": [
  {
   "cell_type": "markdown",
   "metadata": {},
   "source": [
    "# Spark Wrangle Exercise"
   ]
  },
  {
   "cell_type": "markdown",
   "metadata": {},
   "source": [
    "## Data Acquisition"
   ]
  },
  {
   "cell_type": "markdown",
   "metadata": {},
   "source": [
    "### 1. Read the cases, department, and source data into their own Spark dataframes.\n"
   ]
  },
  {
   "cell_type": "code",
   "execution_count": 18,
   "metadata": {},
   "outputs": [],
   "source": [
    "import pandas as pd\n",
    "import numpy as np\n",
    "import matplotlib.pyplot as plt\n",
    "from pyspark.sql import SparkSession\n",
    "from pyspark.sql.functions import *\n",
    "import env as e\n",
    "\n",
    "from pyspark.sql import functions as F"
   ]
  },
  {
   "cell_type": "code",
   "execution_count": 2,
   "metadata": {},
   "outputs": [
    {
     "name": "stderr",
     "output_type": "stream",
     "text": [
      "Setting default log level to \"WARN\".\n",
      "To adjust logging level use sc.setLogLevel(newLevel). For SparkR, use setLogLevel(newLevel).\n",
      "23/10/26 13:39:23 WARN NativeCodeLoader: Unable to load native-hadoop library for your platform... using builtin-java classes where applicable\n"
     ]
    },
    {
     "data": {
      "text/html": [
       "\n",
       "            <div>\n",
       "                <p><b>SparkSession - in-memory</b></p>\n",
       "                \n",
       "        <div>\n",
       "            <p><b>SparkContext</b></p>\n",
       "\n",
       "            <p><a href=\"http://joshuas-mbp.localdomain:4040\">Spark UI</a></p>\n",
       "\n",
       "            <dl>\n",
       "              <dt>Version</dt>\n",
       "                <dd><code>v3.5.0</code></dd>\n",
       "              <dt>Master</dt>\n",
       "                <dd><code>local[*]</code></dd>\n",
       "              <dt>AppName</dt>\n",
       "                <dd><code>pyspark-shell</code></dd>\n",
       "            </dl>\n",
       "        </div>\n",
       "        \n",
       "            </div>\n",
       "        "
      ],
      "text/plain": [
       "<pyspark.sql.session.SparkSession at 0x12f0dbe90>"
      ]
     },
     "execution_count": 2,
     "metadata": {},
     "output_type": "execute_result"
    }
   ],
   "source": [
    "# read the cases data from sql\n",
    "spark = SparkSession.builder.getOrCreate()\n",
    "spark"
   ]
  },
  {
   "cell_type": "markdown",
   "metadata": {},
   "source": [
    "## Cases 311_data"
   ]
  },
  {
   "cell_type": "code",
   "execution_count": 3,
   "metadata": {},
   "outputs": [],
   "source": [
    "url = e.get_db_url('311_data')\n",
    "query = 'select * from cases limit 100000'"
   ]
  },
  {
   "cell_type": "code",
   "execution_count": 4,
   "metadata": {},
   "outputs": [],
   "source": [
    "df = pd.read_sql(query, url)"
   ]
  },
  {
   "cell_type": "code",
   "execution_count": 5,
   "metadata": {},
   "outputs": [],
   "source": [
    "df = df.to_csv('cases.csv')"
   ]
  },
  {
   "cell_type": "code",
   "execution_count": 6,
   "metadata": {},
   "outputs": [],
   "source": [
    "df = pd.read_csv('cases.csv', index_col=0)"
   ]
  },
  {
   "cell_type": "code",
   "execution_count": 7,
   "metadata": {},
   "outputs": [
    {
     "name": "stderr",
     "output_type": "stream",
     "text": [
      "/opt/homebrew/anaconda3/lib/python3.11/site-packages/pyspark/sql/pandas/conversion.py:485: FutureWarning: is_datetime64tz_dtype is deprecated and will be removed in a future version. Check `isinstance(dtype, pd.DatetimeTZDtype)` instead.\n",
      "  if should_localize and is_datetime64tz_dtype(s.dtype) and s.dt.tz is not None:\n"
     ]
    }
   ],
   "source": [
    "cases_df = spark.createDataFrame(df)"
   ]
  },
  {
   "cell_type": "code",
   "execution_count": 8,
   "metadata": {},
   "outputs": [
    {
     "name": "stderr",
     "output_type": "stream",
     "text": [
      "                                                                                \r"
     ]
    },
    {
     "name": "stdout",
     "output_type": "stream",
     "text": [
      "-RECORD 0-----------------------------------------------------\n",
      " case_id              | 1014127332                            \n",
      " case_opened_date     | 1/1/18 0:42                           \n",
      " case_closed_date     | 1/1/18 12:29                          \n",
      " SLA_due_date         | 9/26/20 0:42                          \n",
      " case_late            | NO                                    \n",
      " num_days_late        | -998.5087616                          \n",
      " case_closed          | YES                                   \n",
      " dept_division        | Field Operations                      \n",
      " service_request_type | Stray Animal                          \n",
      " SLA_days             | 999.0                                 \n",
      " case_status          | Closed                                \n",
      " source_id            | svcCRMLS                              \n",
      " request_address      | 2315  EL PASO ST, San Antonio, 78207  \n",
      " council_district     | 5                                     \n",
      "-RECORD 1-----------------------------------------------------\n",
      " case_id              | 1014127333                            \n",
      " case_opened_date     | 1/1/18 0:46                           \n",
      " case_closed_date     | 1/3/18 8:11                           \n",
      " SLA_due_date         | 1/5/18 8:30                           \n",
      " case_late            | NO                                    \n",
      " num_days_late        | -2.012604167                          \n",
      " case_closed          | YES                                   \n",
      " dept_division        | Storm Water                           \n",
      " service_request_type | Removal Of Obstruction                \n",
      " SLA_days             | 4.322222222                           \n",
      " case_status          | Closed                                \n",
      " source_id            | svcCRMSS                              \n",
      " request_address      | 2215  GOLIAD RD, San Antonio, 78223   \n",
      " council_district     | 3                                     \n",
      "-RECORD 2-----------------------------------------------------\n",
      " case_id              | 1014127334                            \n",
      " case_opened_date     | 1/1/18 0:48                           \n",
      " case_closed_date     | 1/2/18 7:57                           \n",
      " SLA_due_date         | 1/5/18 8:30                           \n",
      " case_late            | NO                                    \n",
      " num_days_late        | -3.022337963                          \n",
      " case_closed          | YES                                   \n",
      " dept_division        | Storm Water                           \n",
      " service_request_type | Removal Of Obstruction                \n",
      " SLA_days             | 4.320729167                           \n",
      " case_status          | Closed                                \n",
      " source_id            | svcCRMSS                              \n",
      " request_address      | 102  PALFREY ST W, San Antonio, 78223 \n",
      " council_district     | 3                                     \n",
      "-RECORD 3-----------------------------------------------------\n",
      " case_id              | 1014127335                            \n",
      " case_opened_date     | 1/1/18 1:29                           \n",
      " case_closed_date     | 1/2/18 8:13                           \n",
      " SLA_due_date         | 1/17/18 8:30                          \n",
      " case_late            | NO                                    \n",
      " num_days_late        | -15.01148148                          \n",
      " case_closed          | YES                                   \n",
      " dept_division        | Code Enforcement                      \n",
      " service_request_type | Front Or Side Yard Parking            \n",
      " SLA_days             | 16.29188657                           \n",
      " case_status          | Closed                                \n",
      " source_id            | svcCRMSS                              \n",
      " request_address      | 114  LA GARDE ST, San Antonio, 78223  \n",
      " council_district     | 3                                     \n",
      "-RECORD 4-----------------------------------------------------\n",
      " case_id              | 1014127336                            \n",
      " case_opened_date     | 1/1/18 1:34                           \n",
      " case_closed_date     | 1/1/18 13:29                          \n",
      " SLA_due_date         | 1/1/18 4:34                           \n",
      " case_late            | YES                                   \n",
      " num_days_late        | 0.372164352                           \n",
      " case_closed          | YES                                   \n",
      " dept_division        | Field Operations                      \n",
      " service_request_type | Animal Cruelty(Critical)              \n",
      " SLA_days             | 0.125                                 \n",
      " case_status          | Closed                                \n",
      " source_id            | svcCRMSS                              \n",
      " request_address      | 734  CLEARVIEW DR, San Antonio, 78228 \n",
      " council_district     | 7                                     \n",
      "only showing top 5 rows\n",
      "\n"
     ]
    }
   ],
   "source": [
    "cases_df.show(5, vertical=True, truncate=False)"
   ]
  },
  {
   "cell_type": "markdown",
   "metadata": {},
   "source": [
    "## Sources 311_data"
   ]
  },
  {
   "cell_type": "code",
   "execution_count": 9,
   "metadata": {},
   "outputs": [],
   "source": [
    "source_df = pd.read_sql('select * from source', url)"
   ]
  },
  {
   "cell_type": "code",
   "execution_count": 10,
   "metadata": {},
   "outputs": [
    {
     "name": "stderr",
     "output_type": "stream",
     "text": [
      "/opt/homebrew/anaconda3/lib/python3.11/site-packages/pyspark/sql/pandas/conversion.py:485: FutureWarning: is_datetime64tz_dtype is deprecated and will be removed in a future version. Check `isinstance(dtype, pd.DatetimeTZDtype)` instead.\n",
      "  if should_localize and is_datetime64tz_dtype(s.dtype) and s.dt.tz is not None:\n"
     ]
    },
    {
     "name": "stdout",
     "output_type": "stream",
     "text": [
      "-RECORD 0---------------------------\n",
      " index           | 0                \n",
      " source_id       | 100137           \n",
      " source_username | Merlene Blodgett \n",
      "-RECORD 1---------------------------\n",
      " index           | 1                \n",
      " source_id       | 103582           \n",
      " source_username | Carmen Cura      \n",
      "-RECORD 2---------------------------\n",
      " index           | 2                \n",
      " source_id       | 106463           \n",
      " source_username | Richard Sanchez  \n",
      "-RECORD 3---------------------------\n",
      " index           | 3                \n",
      " source_id       | 119403           \n",
      " source_username | Betty De Hoyos   \n",
      "-RECORD 4---------------------------\n",
      " index           | 4                \n",
      " source_id       | 119555           \n",
      " source_username | Socorro Quiara   \n",
      "only showing top 5 rows\n",
      "\n"
     ]
    }
   ],
   "source": [
    "source_df = spark.createDataFrame(source_df)\n",
    "source_df.show(5, vertical=True, truncate=False)"
   ]
  },
  {
   "cell_type": "markdown",
   "metadata": {},
   "source": [
    "## Dept from 311_data"
   ]
  },
  {
   "cell_type": "code",
   "execution_count": 11,
   "metadata": {},
   "outputs": [
    {
     "name": "stderr",
     "output_type": "stream",
     "text": [
      "/opt/homebrew/anaconda3/lib/python3.11/site-packages/pyspark/sql/pandas/conversion.py:485: FutureWarning: is_datetime64tz_dtype is deprecated and will be removed in a future version. Check `isinstance(dtype, pd.DatetimeTZDtype)` instead.\n",
      "  if should_localize and is_datetime64tz_dtype(s.dtype) and s.dt.tz is not None:\n"
     ]
    },
    {
     "name": "stdout",
     "output_type": "stream",
     "text": [
      "-RECORD 0-----------------------------------------------\n",
      " dept_division          | 311 Call Center               \n",
      " dept_name              | Customer Service              \n",
      " standardized_dept_name | Customer Service              \n",
      " dept_subject_to_SLA    | YES                           \n",
      "-RECORD 1-----------------------------------------------\n",
      " dept_division          | Brush                         \n",
      " dept_name              | Solid Waste Management        \n",
      " standardized_dept_name | Solid Waste                   \n",
      " dept_subject_to_SLA    | YES                           \n",
      "-RECORD 2-----------------------------------------------\n",
      " dept_division          | Clean and Green               \n",
      " dept_name              | Parks and Recreation          \n",
      " standardized_dept_name | Parks & Recreation            \n",
      " dept_subject_to_SLA    | YES                           \n",
      "-RECORD 3-----------------------------------------------\n",
      " dept_division          | Clean and Green Natural Areas \n",
      " dept_name              | Parks and Recreation          \n",
      " standardized_dept_name | Parks & Recreation            \n",
      " dept_subject_to_SLA    | YES                           \n",
      "-RECORD 4-----------------------------------------------\n",
      " dept_division          | Code Enforcement              \n",
      " dept_name              | Code Enforcement Services     \n",
      " standardized_dept_name | DSD/Code Enforcement          \n",
      " dept_subject_to_SLA    | YES                           \n",
      "only showing top 5 rows\n",
      "\n"
     ]
    }
   ],
   "source": [
    "dept_df = pd.read_sql('select * from dept', url)\n",
    "dept_df = spark.createDataFrame(dept_df)\n",
    "dept_df.show(5, vertical=True, truncate=False)"
   ]
  },
  {
   "cell_type": "markdown",
   "metadata": {},
   "source": [
    "### 2. Let's see how writing to the local disk works in Spark:\n"
   ]
  },
  {
   "cell_type": "markdown",
   "metadata": {},
   "source": [
    "* Write the code necessary to store the source data in both csv and json format, store these as sources_csv and sources_json\n"
   ]
  },
  {
   "cell_type": "code",
   "execution_count": 12,
   "metadata": {},
   "outputs": [
    {
     "name": "stderr",
     "output_type": "stream",
     "text": [
      "                                                                                \r"
     ]
    }
   ],
   "source": [
    "# write the code necessary to store the source_df in both csv and json format,\n",
    "# store these as sources_csv and sources_json\n",
    "source_df.write.csv('sources_csv', mode='overwrite')\n",
    "source_df.write.json('sources_json', mode='overwrite')"
   ]
  },
  {
   "cell_type": "markdown",
   "metadata": {},
   "source": [
    "* Inspect your folder structure. What do you notice?\n"
   ]
  },
  {
   "cell_type": "markdown",
   "metadata": {},
   "source": [
    "### 3. Inspect the data in your dataframes. Are the data types appropriate? Write the code necessary to cast the values to the appropriate types."
   ]
  },
  {
   "cell_type": "code",
   "execution_count": 13,
   "metadata": {},
   "outputs": [
    {
     "name": "stdout",
     "output_type": "stream",
     "text": [
      "root\n",
      " |-- case_id: long (nullable = true)\n",
      " |-- case_opened_date: string (nullable = true)\n",
      " |-- case_closed_date: string (nullable = true)\n",
      " |-- SLA_due_date: string (nullable = true)\n",
      " |-- case_late: string (nullable = true)\n",
      " |-- num_days_late: double (nullable = true)\n",
      " |-- case_closed: string (nullable = true)\n",
      " |-- dept_division: string (nullable = true)\n",
      " |-- service_request_type: string (nullable = true)\n",
      " |-- SLA_days: double (nullable = true)\n",
      " |-- case_status: string (nullable = true)\n",
      " |-- source_id: string (nullable = true)\n",
      " |-- request_address: string (nullable = true)\n",
      " |-- council_district: long (nullable = true)\n",
      "\n"
     ]
    }
   ],
   "source": [
    "# inspect the data in your dataframes\n",
    "# write the code necessary to cast the values to the appropriate types\n",
    "cases_df.printSchema()"
   ]
  },
  {
   "cell_type": "code",
   "execution_count": 17,
   "metadata": {},
   "outputs": [
    {
     "name": "stdout",
     "output_type": "stream",
     "text": [
      "-RECORD 0----------------------------------------------------\n",
      " case_id              | 1014127332                           \n",
      " case_opened_date     | 1/1/18 0:42                          \n",
      " case_closed_date     | 1/1/18 12:29                         \n",
      " case_due_date        | 9/26/20 0:42                         \n",
      " case_late            | NO                                   \n",
      " num_days_late        | -998.5087616                         \n",
      " case_closed          | YES                                  \n",
      " dept_division        | Field Operations                     \n",
      " service_request_type | Stray Animal                         \n",
      " case_days            | 999.0                                \n",
      " case_status          | Closed                               \n",
      " source_id            | svcCRMLS                             \n",
      " request_address      | 2315  EL PASO ST, San Antonio, 78207 \n",
      " council_district     | 5                                    \n",
      "only showing top 1 row\n",
      "\n"
     ]
    }
   ],
   "source": [
    "cases_df.show(1, vertical=True, truncate=False)"
   ]
  },
  {
   "cell_type": "code",
   "execution_count": 15,
   "metadata": {},
   "outputs": [],
   "source": [
    "cases_df = cases_df.withColumnRenamed('SLA_due_date', 'case_due_date')\n",
    "cases_df = cases_df.withColumnRenamed('SLA_days', 'case_days')"
   ]
  },
  {
   "cell_type": "code",
   "execution_count": 19,
   "metadata": {},
   "outputs": [],
   "source": [
    "fmt = \"M/d/yy H:mm\""
   ]
  },
  {
   "cell_type": "code",
   "execution_count": 20,
   "metadata": {},
   "outputs": [],
   "source": [
    "cases_df = cases_df.withColumns({\n",
    "    'case_opened_date': F.to_timestamp(F.col('case_opened_date'),\n",
    "                  fmt), \n",
    "    'case_closed_date': F.to_timestamp(F.col('case_closed_date'),\n",
    "                  fmt), \n",
    "    'case_due_date': F.to_timestamp(F.col('case_due_date'),\n",
    "                  fmt)})"
   ]
  },
  {
   "cell_type": "code",
   "execution_count": 21,
   "metadata": {},
   "outputs": [],
   "source": [
    "# change close_closed and case_late columns into boolean values\n",
    "cases_df = cases_df.withColumns(\n",
    "    {\n",
    "        'case_closed': F.when(F.col('case_closed') == 'YES', True).cast('int'),\n",
    "        'case_late': F.when(F.col('case_late') == 'YES', True).cast('int')\n",
    "    }\n",
    ")"
   ]
  },
  {
   "cell_type": "code",
   "execution_count": 23,
   "metadata": {},
   "outputs": [],
   "source": [
    "#use .cast()\n",
    "# pad with zeros using a concatenation\n",
    "cases_df = cases_df.withColumn(\n",
    "    'council_district',\n",
    "    F.format_string(\n",
    "        '%03d',\n",
    "        cases_df.council_district.cast('int')\n",
    "))"
   ]
  },
  {
   "cell_type": "code",
   "execution_count": 26,
   "metadata": {},
   "outputs": [],
   "source": [
    "# normalize address\n",
    "cases_df = cases_df.withColumn(\n",
    "    'request_address',\n",
    "    F.trim(F.lower(F.col('request_address')))\n",
    ")"
   ]
  },
  {
   "cell_type": "code",
   "execution_count": 27,
   "metadata": {},
   "outputs": [
    {
     "name": "stdout",
     "output_type": "stream",
     "text": [
      "root\n",
      " |-- case_id: long (nullable = true)\n",
      " |-- case_opened_date: timestamp (nullable = true)\n",
      " |-- case_closed_date: timestamp (nullable = true)\n",
      " |-- case_due_date: timestamp (nullable = true)\n",
      " |-- case_late: integer (nullable = true)\n",
      " |-- num_days_late: double (nullable = true)\n",
      " |-- case_closed: integer (nullable = true)\n",
      " |-- dept_division: string (nullable = true)\n",
      " |-- service_request_type: string (nullable = true)\n",
      " |-- case_days: double (nullable = true)\n",
      " |-- case_status: string (nullable = true)\n",
      " |-- source_id: string (nullable = true)\n",
      " |-- request_address: string (nullable = true)\n",
      " |-- council_district: string (nullable = false)\n",
      "\n"
     ]
    }
   ],
   "source": [
    "cases_df.printSchema()"
   ]
  },
  {
   "cell_type": "code",
   "execution_count": 28,
   "metadata": {},
   "outputs": [],
   "source": [
    "# lets divide that numerical column by seven to get num_weeks_late\n",
    "cases_df = cases_df.withColumn(\n",
    "    'num_weeks_late',\n",
    "    F.round(F.col('num_days_late') / 7, 1))"
   ]
  },
  {
   "cell_type": "markdown",
   "metadata": {},
   "source": [
    "## Data Exploratory Questions\n",
    "\n"
   ]
  },
  {
   "cell_type": "markdown",
   "metadata": {},
   "source": [
    "### 1. How old is the latest (in terms of days past SLA) currently open issue? How long has the oldest (in terms of days since opened) currently opened issue been open?\n"
   ]
  },
  {
   "cell_type": "code",
   "execution_count": 30,
   "metadata": {},
   "outputs": [
    {
     "name": "stdout",
     "output_type": "stream",
     "text": [
      "-RECORD 0----------------------------------------------------\n",
      " case_id              | 1014127332                           \n",
      " case_opened_date     | 2018-01-01 00:42:00                  \n",
      " case_closed_date     | 2018-01-01 12:29:00                  \n",
      " case_due_date        | 2020-09-26 00:42:00                  \n",
      " case_late            | NULL                                 \n",
      " num_days_late        | -998.5087616                         \n",
      " case_closed          | 1                                    \n",
      " dept_division        | Field Operations                     \n",
      " service_request_type | Stray Animal                         \n",
      " case_days            | 999.0                                \n",
      " case_status          | Closed                               \n",
      " source_id            | svcCRMLS                             \n",
      " request_address      | 2315  el paso st, san antonio, 78207 \n",
      " council_district     | 005                                  \n",
      " num_weeks_late       | -142.6                               \n",
      "only showing top 1 row\n",
      "\n"
     ]
    }
   ],
   "source": [
    "cases_df.show(1, vertical=True, truncate=False)"
   ]
  },
  {
   "cell_type": "code",
   "execution_count": 32,
   "metadata": {},
   "outputs": [],
   "source": [
    "#use datediff() to find the difference between two dates\n",
    "cases_df = cases_df.withColumn(\n",
    "    'case_age',\n",
    "    F.datediff(F.current_timestamp(), F.col('case_opened_date')\n",
    "    ))"
   ]
  },
  {
   "cell_type": "code",
   "execution_count": 33,
   "metadata": {},
   "outputs": [
    {
     "name": "stderr",
     "output_type": "stream",
     "text": [
      "23/10/26 14:56:55 WARN TaskSetManager: Stage 12 contains a task of very large size (1005 KiB). The maximum recommended task size is 1000 KiB.\n",
      "[Stage 12:====>                                                   (1 + 11) / 12]\r"
     ]
    },
    {
     "name": "stdout",
     "output_type": "stream",
     "text": [
      "+-------------+\n",
      "|max(case_age)|\n",
      "+-------------+\n",
      "|         2124|\n",
      "+-------------+\n",
      "\n"
     ]
    },
    {
     "name": "stderr",
     "output_type": "stream",
     "text": [
      "                                                                                \r"
     ]
    }
   ],
   "source": [
    "# how old is the latest open issue in days?\n",
    "cases_df.select(F.max(F.col('case_age'))).show()"
   ]
  },
  {
   "cell_type": "code",
   "execution_count": 29,
   "metadata": {},
   "outputs": [
    {
     "name": "stderr",
     "output_type": "stream",
     "text": [
      "23/10/26 14:52:59 WARN TaskSetManager: Stage 8 contains a task of very large size (1005 KiB). The maximum recommended task size is 1000 KiB.\n",
      "[Stage 8:>                                                        (0 + 12) / 12]\r"
     ]
    },
    {
     "name": "stdout",
     "output_type": "stream",
     "text": [
      "+---------------------+\n",
      "|max(case_opened_date)|\n",
      "+---------------------+\n",
      "|  2018-03-13 16:55:00|\n",
      "+---------------------+\n",
      "\n"
     ]
    },
    {
     "name": "stderr",
     "output_type": "stream",
     "text": [
      "                                                                                \r"
     ]
    }
   ],
   "source": [
    "# how old is the latest open issue in days?\n",
    "\n",
    "cases_df.select(F.max(F.col('case_opened_date'))).show()"
   ]
  },
  {
   "cell_type": "markdown",
   "metadata": {},
   "source": [
    "### 2. How many Stray Animal cases are there?\n"
   ]
  },
  {
   "cell_type": "code",
   "execution_count": 34,
   "metadata": {},
   "outputs": [
    {
     "name": "stderr",
     "output_type": "stream",
     "text": [
      "23/10/26 14:57:23 WARN TaskSetManager: Stage 15 contains a task of very large size (1005 KiB). The maximum recommended task size is 1000 KiB.\n",
      "                                                                                \r"
     ]
    },
    {
     "data": {
      "text/plain": [
       "3497"
      ]
     },
     "execution_count": 34,
     "metadata": {},
     "output_type": "execute_result"
    }
   ],
   "source": [
    "# how many Stray Animal cases are there?\n",
    "cases_df.filter(F.col('service_request_type') == 'Stray Animal').count()"
   ]
  },
  {
   "cell_type": "markdown",
   "metadata": {},
   "source": [
    "### 3. How many service requests that are assigned to the Field Operations department (dept_division) are not classified as \"Officer Standby\" request type (service_request_type)?\n"
   ]
  },
  {
   "cell_type": "code",
   "execution_count": 35,
   "metadata": {},
   "outputs": [
    {
     "name": "stdout",
     "output_type": "stream",
     "text": [
      "-RECORD 0----------------------------------\n",
      " dept_division          | 311 Call Center  \n",
      " dept_name              | Customer Service \n",
      " standardized_dept_name | Customer Service \n",
      " dept_subject_to_SLA    | YES              \n",
      "only showing top 1 row\n",
      "\n"
     ]
    }
   ],
   "source": [
    "dept_df.show(1, vertical=True, truncate=False)"
   ]
  },
  {
   "cell_type": "code",
   "execution_count": 36,
   "metadata": {},
   "outputs": [],
   "source": [
    "df = cases_df.join(dept_df, 'dept_division', 'left').join(source_df, 'source_id', 'left')\n"
   ]
  },
  {
   "cell_type": "code",
   "execution_count": 37,
   "metadata": {},
   "outputs": [
    {
     "name": "stdout",
     "output_type": "stream",
     "text": [
      "root\n",
      " |-- source_id: string (nullable = true)\n",
      " |-- dept_division: string (nullable = true)\n",
      " |-- case_id: long (nullable = true)\n",
      " |-- case_opened_date: timestamp (nullable = true)\n",
      " |-- case_closed_date: timestamp (nullable = true)\n",
      " |-- case_due_date: timestamp (nullable = true)\n",
      " |-- case_late: integer (nullable = true)\n",
      " |-- num_days_late: double (nullable = true)\n",
      " |-- case_closed: integer (nullable = true)\n",
      " |-- service_request_type: string (nullable = true)\n",
      " |-- case_days: double (nullable = true)\n",
      " |-- case_status: string (nullable = true)\n",
      " |-- request_address: string (nullable = true)\n",
      " |-- council_district: string (nullable = false)\n",
      " |-- num_weeks_late: double (nullable = true)\n",
      " |-- case_age: integer (nullable = true)\n",
      " |-- dept_name: string (nullable = true)\n",
      " |-- standardized_dept_name: string (nullable = true)\n",
      " |-- dept_subject_to_SLA: string (nullable = true)\n",
      " |-- index: long (nullable = true)\n",
      " |-- source_username: string (nullable = true)\n",
      "\n"
     ]
    }
   ],
   "source": [
    "df.printSchema()"
   ]
  },
  {
   "cell_type": "code",
   "execution_count": 38,
   "metadata": {},
   "outputs": [
    {
     "name": "stderr",
     "output_type": "stream",
     "text": [
      "23/10/26 15:00:47 WARN TaskSetManager: Stage 19 contains a task of very large size (1005 KiB). The maximum recommended task size is 1000 KiB.\n",
      "                                                                                \r"
     ]
    },
    {
     "data": {
      "text/plain": [
       "(101722, 21)"
      ]
     },
     "execution_count": 38,
     "metadata": {},
     "output_type": "execute_result"
    }
   ],
   "source": [
    "# see the shape of the data\n",
    "df.count(), len(df.columns)"
   ]
  },
  {
   "cell_type": "code",
   "execution_count": 39,
   "metadata": {},
   "outputs": [
    {
     "name": "stderr",
     "output_type": "stream",
     "text": [
      "23/10/26 15:02:38 WARN TaskSetManager: Stage 31 contains a task of very large size (1005 KiB). The maximum recommended task size is 1000 KiB.\n",
      "                                                                                \r"
     ]
    },
    {
     "data": {
      "text/plain": [
       "0"
      ]
     },
     "execution_count": 39,
     "metadata": {},
     "output_type": "execute_result"
    }
   ],
   "source": [
    "# how many service requests are assigned to the Field Operations department that are not classified as 'officer stand by' request type?\n",
    "df.filter((F.col('dept_name') == 'Field Operations') & (F.col('service_request_type') != 'Officer Standby')).count()"
   ]
  },
  {
   "cell_type": "markdown",
   "metadata": {},
   "source": [
    "### 4. Convert the council_district column to a string column.\n"
   ]
  },
  {
   "cell_type": "code",
   "execution_count": 40,
   "metadata": {},
   "outputs": [],
   "source": [
    "# convert the council_district column to a string column.\n",
    "df = df.withColumn('council_district', F.col('council_district').cast('string'))"
   ]
  },
  {
   "cell_type": "code",
   "execution_count": 41,
   "metadata": {},
   "outputs": [
    {
     "name": "stdout",
     "output_type": "stream",
     "text": [
      "root\n",
      " |-- source_id: string (nullable = true)\n",
      " |-- dept_division: string (nullable = true)\n",
      " |-- case_id: long (nullable = true)\n",
      " |-- case_opened_date: timestamp (nullable = true)\n",
      " |-- case_closed_date: timestamp (nullable = true)\n",
      " |-- case_due_date: timestamp (nullable = true)\n",
      " |-- case_late: integer (nullable = true)\n",
      " |-- num_days_late: double (nullable = true)\n",
      " |-- case_closed: integer (nullable = true)\n",
      " |-- service_request_type: string (nullable = true)\n",
      " |-- case_days: double (nullable = true)\n",
      " |-- case_status: string (nullable = true)\n",
      " |-- request_address: string (nullable = true)\n",
      " |-- council_district: string (nullable = false)\n",
      " |-- num_weeks_late: double (nullable = true)\n",
      " |-- case_age: integer (nullable = true)\n",
      " |-- dept_name: string (nullable = true)\n",
      " |-- standardized_dept_name: string (nullable = true)\n",
      " |-- dept_subject_to_SLA: string (nullable = true)\n",
      " |-- index: long (nullable = true)\n",
      " |-- source_username: string (nullable = true)\n",
      "\n"
     ]
    }
   ],
   "source": [
    "df.printSchema()"
   ]
  },
  {
   "cell_type": "markdown",
   "metadata": {},
   "source": [
    "### 5. Extract the year from the case_closed_date column.\n"
   ]
  },
  {
   "cell_type": "code",
   "execution_count": 44,
   "metadata": {},
   "outputs": [],
   "source": [
    "# extract the year from the case_closed_date column.\n",
    "df = df.withColumn('year', F.year('case_closed_date'))"
   ]
  },
  {
   "cell_type": "markdown",
   "metadata": {},
   "source": [
    "### 6. Convert num_days_late from days to hours in a new column num_hours_late.\n"
   ]
  },
  {
   "cell_type": "code",
   "execution_count": 45,
   "metadata": {},
   "outputs": [],
   "source": [
    "# convert num_days_late from days to hours in new columns num_hours_late.\n",
    "df = df.withColumn('num_hours_late', F.round(F.col('num_days_late') * 24, 2))"
   ]
  },
  {
   "cell_type": "markdown",
   "metadata": {},
   "source": [
    "### 7. Join the cases data with the source and department data.\n"
   ]
  },
  {
   "cell_type": "code",
   "execution_count": 46,
   "metadata": {},
   "outputs": [
    {
     "name": "stdout",
     "output_type": "stream",
     "text": [
      "root\n",
      " |-- source_id: string (nullable = true)\n",
      " |-- dept_division: string (nullable = true)\n",
      " |-- case_id: long (nullable = true)\n",
      " |-- case_opened_date: timestamp (nullable = true)\n",
      " |-- case_closed_date: timestamp (nullable = true)\n",
      " |-- case_due_date: timestamp (nullable = true)\n",
      " |-- case_late: integer (nullable = true)\n",
      " |-- num_days_late: double (nullable = true)\n",
      " |-- case_closed: integer (nullable = true)\n",
      " |-- service_request_type: string (nullable = true)\n",
      " |-- case_days: double (nullable = true)\n",
      " |-- case_status: string (nullable = true)\n",
      " |-- request_address: string (nullable = true)\n",
      " |-- council_district: string (nullable = false)\n",
      " |-- num_weeks_late: double (nullable = true)\n",
      " |-- case_age: integer (nullable = true)\n",
      " |-- dept_name: string (nullable = true)\n",
      " |-- standardized_dept_name: string (nullable = true)\n",
      " |-- dept_subject_to_SLA: string (nullable = true)\n",
      " |-- index: long (nullable = true)\n",
      " |-- source_username: string (nullable = true)\n",
      " |-- year: integer (nullable = true)\n",
      " |-- num_hours_late: double (nullable = true)\n",
      "\n"
     ]
    }
   ],
   "source": [
    "df.printSchema()"
   ]
  },
  {
   "cell_type": "code",
   "execution_count": 47,
   "metadata": {},
   "outputs": [
    {
     "name": "stderr",
     "output_type": "stream",
     "text": [
      "23/10/26 15:05:42 WARN TaskSetManager: Stage 45 contains a task of very large size (1005 KiB). The maximum recommended task size is 1000 KiB.\n",
      "                                                                                \r"
     ]
    },
    {
     "name": "stdout",
     "output_type": "stream",
     "text": [
      "-RECORD 0------------------------------------------------------\n",
      " source_id              | svcCRMLS                             \n",
      " dept_division          | Field Operations                     \n",
      " case_id                | 1014127332                           \n",
      " case_opened_date       | 2018-01-01 00:42:00                  \n",
      " case_closed_date       | 2018-01-01 12:29:00                  \n",
      " case_due_date          | 2020-09-26 00:42:00                  \n",
      " case_late              | NULL                                 \n",
      " num_days_late          | -998.5087616                         \n",
      " case_closed            | 1                                    \n",
      " service_request_type   | Stray Animal                         \n",
      " case_days              | 999.0                                \n",
      " case_status            | Closed                               \n",
      " request_address        | 2315  el paso st, san antonio, 78207 \n",
      " council_district       | 005                                  \n",
      " num_weeks_late         | -142.6                               \n",
      " case_age               | 2124                                 \n",
      " dept_name              | Animal Care Services                 \n",
      " standardized_dept_name | Animal Care Services                 \n",
      " dept_subject_to_SLA    | YES                                  \n",
      " index                  | 132                                  \n",
      " source_username        | svcCRMLS                             \n",
      " year                   | 2018                                 \n",
      " num_hours_late         | -23964.21                            \n",
      "only showing top 1 row\n",
      "\n"
     ]
    }
   ],
   "source": [
    "df.show(1, vertical=True, truncate=False)"
   ]
  },
  {
   "cell_type": "markdown",
   "metadata": {},
   "source": [
    "### 8. Are there any cases that do not have a request source?\n"
   ]
  },
  {
   "cell_type": "code",
   "execution_count": 48,
   "metadata": {},
   "outputs": [
    {
     "name": "stderr",
     "output_type": "stream",
     "text": [
      "23/10/26 15:06:31 WARN TaskSetManager: Stage 54 contains a task of very large size (1005 KiB). The maximum recommended task size is 1000 KiB.\n",
      "                                                                                \r"
     ]
    },
    {
     "data": {
      "text/plain": [
       "0"
      ]
     },
     "execution_count": 48,
     "metadata": {},
     "output_type": "execute_result"
    }
   ],
   "source": [
    "# are there any cases that do not have a request source?\n",
    "df.filter(F.col('source_id').isNull()).count()"
   ]
  },
  {
   "cell_type": "markdown",
   "metadata": {},
   "source": [
    "### 9. What are the top 10 service request types in terms of number of requests?\n"
   ]
  },
  {
   "cell_type": "code",
   "execution_count": 49,
   "metadata": {},
   "outputs": [
    {
     "name": "stderr",
     "output_type": "stream",
     "text": [
      "23/10/26 15:09:06 WARN TaskSetManager: Stage 59 contains a task of very large size (1005 KiB). The maximum recommended task size is 1000 KiB.\n",
      "                                                                                \r"
     ]
    },
    {
     "name": "stdout",
     "output_type": "stream",
     "text": [
      "+---------------------------------+-----+\n",
      "|service_request_type             |count|\n",
      "+---------------------------------+-----+\n",
      "|No Pickup                        |9219 |\n",
      "|Overgrown Yard/Trash             |6901 |\n",
      "|Front Or Side Yard Parking       |5354 |\n",
      "|Bandit Signs                     |4788 |\n",
      "|Aggressive Animal(Non-Critical)  |3637 |\n",
      "|Stray Animal                     |3618 |\n",
      "|Damaged Cart                     |3552 |\n",
      "|Cart Exchange Request            |3365 |\n",
      "|Right Of Way/Sidewalk Obstruction|3136 |\n",
      "|Junk Vehicle On Private Property |2915 |\n",
      "+---------------------------------+-----+\n",
      "only showing top 10 rows\n",
      "\n"
     ]
    }
   ],
   "source": [
    "# what are the top 10 service request types in terms of number of requests?\n",
    "df.groupBy('service_request_type').count().sort(F.desc('count')).show(10, truncate=False)"
   ]
  },
  {
   "cell_type": "markdown",
   "metadata": {},
   "source": [
    "### 10. What are the top 10 service request types in terms of average days late?\n"
   ]
  },
  {
   "cell_type": "code",
   "execution_count": 50,
   "metadata": {},
   "outputs": [
    {
     "name": "stderr",
     "output_type": "stream",
     "text": [
      "23/10/26 15:09:42 WARN TaskSetManager: Stage 71 contains a task of very large size (1005 KiB). The maximum recommended task size is 1000 KiB.\n",
      "[Stage 79:>                                                         (0 + 2) / 2]\r"
     ]
    },
    {
     "name": "stdout",
     "output_type": "stream",
     "text": [
      "+----------------------------------------+------------------+\n",
      "|service_request_type                    |avg(num_days_late)|\n",
      "+----------------------------------------+------------------+\n",
      "|Request for Research/Information        |NaN               |\n",
      "|Zoning: Junk Yards                      |178.31639873914892|\n",
      "|Emergency: Main and Accessory Structures|173.50848380000002|\n",
      "|Status: On-Going CIMS Projects          |162.1255041796491 |\n",
      "|Zoning: Recycle Yard                    |152.18173756625004|\n",
      "|Complaint                               |136.77933500099587|\n",
      "|Markings Installation SMO (NEW)         |111.3769444       |\n",
      "|Vendors                                 |73.73983846695651 |\n",
      "|Donation Container Enforcement          |61.648206019999996|\n",
      "|No Address Posted                       |61.13694979150944 |\n",
      "+----------------------------------------+------------------+\n",
      "only showing top 10 rows\n",
      "\n"
     ]
    },
    {
     "name": "stderr",
     "output_type": "stream",
     "text": [
      "                                                                                \r"
     ]
    }
   ],
   "source": [
    "# what are the top 10 service request types in terms of average days late?\n",
    "df.groupBy('service_request_type').agg(F.mean('num_days_late')).sort(F.desc('avg(num_days_late)')).show(10, truncate=False)"
   ]
  },
  {
   "cell_type": "markdown",
   "metadata": {},
   "source": [
    "### 11. Does number of days late depend on department? (Answer without the use of a stats test)\n"
   ]
  },
  {
   "cell_type": "code",
   "execution_count": 51,
   "metadata": {},
   "outputs": [
    {
     "name": "stderr",
     "output_type": "stream",
     "text": [
      "23/10/26 15:10:25 WARN TaskSetManager: Stage 83 contains a task of very large size (1005 KiB). The maximum recommended task size is 1000 KiB.\n",
      "                                                                                \r"
     ]
    },
    {
     "name": "stdout",
     "output_type": "stream",
     "text": [
      "+-------------------------+-------------------+\n",
      "|dept_name                |avg(num_days_late) |\n",
      "+-------------------------+-------------------+\n",
      "|City Council             |NaN                |\n",
      "|NULL                     |152.18173756624998 |\n",
      "|Customer Service         |111.95715140314537 |\n",
      "|Development Services     |30.78518419039263  |\n",
      "|Solid Waste Management   |-1.9424973241389711|\n",
      "|Parks and Recreation     |-4.490874417843001 |\n",
      "|Metro Health             |-5.685264872257886 |\n",
      "|Trans & Cap Improvements |-19.13824761338138 |\n",
      "|Code Enforcement Services|-34.12980263328008 |\n",
      "|Animal Care Services     |-224.73718906677817|\n",
      "+-------------------------+-------------------+\n",
      "\n"
     ]
    }
   ],
   "source": [
    "# does number of days late depend on department?\n",
    "df.groupBy('dept_name').agg(F.mean('num_days_late')).sort(F.desc('avg(num_days_late)')).show(10, truncate=False)"
   ]
  },
  {
   "cell_type": "markdown",
   "metadata": {},
   "source": [
    "### 12. How do number of days late depend on department and request type?"
   ]
  },
  {
   "cell_type": "code",
   "execution_count": 53,
   "metadata": {},
   "outputs": [
    {
     "name": "stderr",
     "output_type": "stream",
     "text": [
      "23/10/26 15:11:53 WARN TaskSetManager: Stage 107 contains a task of very large size (1005 KiB). The maximum recommended task size is 1000 KiB.\n",
      "                                                                                \r"
     ]
    },
    {
     "name": "stdout",
     "output_type": "stream",
     "text": [
      "+-------------------------+----------------------------------------+------------------+\n",
      "|dept_name                |service_request_type                    |avg(num_days_late)|\n",
      "+-------------------------+----------------------------------------+------------------+\n",
      "|City Council             |Request for Research/Information        |NaN               |\n",
      "|Code Enforcement Services|Zoning: Junk Yards                      |178.31639873914892|\n",
      "|Code Enforcement Services|Emergency: Main and Accessory Structures|173.50848380000002|\n",
      "|Trans & Cap Improvements |Status: On-Going CIMS Projects          |162.1255041796491 |\n",
      "|NULL                     |Zoning: Recycle Yard                    |152.18173756625004|\n",
      "|Customer Service         |Complaint                               |136.77933500099587|\n",
      "|Trans & Cap Improvements |Markings Installation SMO (NEW)         |111.3769444       |\n",
      "|Code Enforcement Services|Vendors                                 |73.73983846695651 |\n",
      "|Code Enforcement Services|Donation Container Enforcement          |61.648206019999996|\n",
      "|Code Enforcement Services|No Address Posted                       |61.13694979150944 |\n",
      "|Code Enforcement Services|Curbstoning                             |54.43280035612195 |\n",
      "|Parks and Recreation     |Electrical                              |42.54110090126389 |\n",
      "|Parks and Recreation     |Fence/Gate Repair                       |41.0591678192     |\n",
      "|Parks and Recreation     |Sportfield Lighting                     |38.550961063216874|\n",
      "|Solid Waste Management   |Solid Waste Fees and Charges            |35.492336594427364|\n",
      "|Code Enforcement Services|Dart Preliminary Inspection             |34.577366255111116|\n",
      "|Development Services     |Street Light New Development            |31.8326576925     |\n",
      "|Development Services     |Street Light Existing Res Sub Div       |30.73112104189678 |\n",
      "|Code Enforcement Services|Boarding Home Inspection                |27.480638886      |\n",
      "|Solid Waste Management   |Service Information                     |24.88298198121429 |\n",
      "+-------------------------+----------------------------------------+------------------+\n",
      "only showing top 20 rows\n",
      "\n"
     ]
    }
   ],
   "source": [
    "# how do number of days late depend on department and request type?\n",
    "df.groupBy('dept_name', 'service_request_type').agg(F.mean('num_days_late')).sort(F.desc('avg(num_days_late)')).show( truncate=False)"
   ]
  },
  {
   "cell_type": "code",
   "execution_count": null,
   "metadata": {},
   "outputs": [],
   "source": []
  }
 ],
 "metadata": {
  "kernelspec": {
   "display_name": "base",
   "language": "python",
   "name": "python3"
  },
  "language_info": {
   "codemirror_mode": {
    "name": "ipython",
    "version": 3
   },
   "file_extension": ".py",
   "mimetype": "text/x-python",
   "name": "python",
   "nbconvert_exporter": "python",
   "pygments_lexer": "ipython3",
   "version": "3.11.3"
  }
 },
 "nbformat": 4,
 "nbformat_minor": 2
}
